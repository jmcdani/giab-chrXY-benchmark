{
 "cells": [
  {
   "cell_type": "markdown",
   "id": "d4ed899a",
   "metadata": {},
   "source": [
    "Notebook created by Jennifer McDaniel 2023-08-01"
   ]
  },
  {
   "cell_type": "code",
   "execution_count": 1,
   "id": "2384bd82",
   "metadata": {},
   "outputs": [
    {
     "name": "stdout",
     "output_type": "stream",
     "text": [
      "/Users/jmcdani/Documents/XY_benchmark/giab-chrXY-benchmark/scripts/chrXY_benchmark_exclusions\n"
     ]
    }
   ],
   "source": [
    "#Work performed on JMcDaniel Mac\n",
    "pwd"
   ]
  },
  {
   "cell_type": "markdown",
   "id": "fc2d6649",
   "metadata": {},
   "source": [
    "# HG002 chrXY Draft Benchmark Exclusions\n",
    "chrXY draft benchmark was generated from the T2T HG002 complete assembly of chromosomes X and Y by J.Wagner and J.Zook.  This benchmark includes more challenging regions, like segmental duplications, that were excluded \n",
    "from previous GIAB benchmarks. Following curation of the draft it was determined that some regions needed to be excluded from the final version of the benchmark. "
   ]
  },
  {
   "cell_type": "markdown",
   "id": "b2903f63-6fd2-4f88-9148-d537c32b1213",
   "metadata": {},
   "source": [
    "# vcf and bed draft benchmarks \n",
    "retrieved from defrabb run ['20230315_v0.011-HG002XY'](https://drive.google.com/drive/folders/1iNuMIwNlW4pex5bn5OllaURZBxI3FNsB)"
   ]
  },
  {
   "cell_type": "markdown",
   "id": "46a8ca8c",
   "metadata": {},
   "source": [
    "## Description of regions that will be excluded\n",
    "\n",
    "### 1. Excluding benchmark_correct = \"no\" (error) and \"unsure\" manually curated variants\n",
    "##### exclusion coordinates: see file created from curation table tsv\n",
    "Exclude variants found during manual curation by collaborators and NIST, where the benchmark appears to be incorrect (no) or where NIST curators were unsure if the variant is correct.\n",
    "\n",
    "### 2. Inversion error\n",
    "##### exclusion coordinates: entire region chrY:17455804-18450201\n",
    "Sites received from J.Zook 7/21/23 (slack message)\n",
    "\n",
    "A region on ~ chrY:17590000-18320000 has a cluster of putative FPs and FNs looks like it is related to a known inversion error in the T2T-Y HG002 assembly, which is corrected in the whole genome T2T-HG002. As the T2T-HG002 project progresses, we will track that region and consider how to improve an HG002 XY benchmark. As a note, it is interesting that ONT seems to support some variants in T2T-Y vs GRCh38, but it's probably related to challenges in mapping to these highly identical large segdups surrounding the small unique inverted sequence called P5 in the chrY paper. Reads aligned to the whole genome T2T-HG002 seem to support it as correct unlike T2T-Y.\n",
    "\n",
    "The pair of segdups affected is chrY:17,954,718-18,450,201 and chrY:17455804-17951260, and since these almost overlap we should exclude the entire region chrY:17455804-18450201.\n",
    "\n",
    "### 3. Segdup differences between the assembly-based alignments and mapping-based alignments that involves TSPY2 gene\n",
    "##### exclusion coordinates: chrY:6234812-6532742 and chrY:9,628,425-9,919,592\n",
    "Sites received from J.Zook 7/21/23 (slack message)\n",
    "\n",
    "For the TSPY2 segdup pair, which is actually multiple segdups, we can exclude the segdup pairs in these regions: chrY:6234812-6532742 and chrY:9,628,425-9,919,592\n",
    "\n",
    "it looks like it's somewhere inside the segdup pair chrY:6362052-6532742 and chrY:9,628,425-9,802,672 that mapping based calls start almost completely matching the assembly-based calls, so probably don't need to exclude more than this. It looks similar in both copies of the segdup, and the left side of the 9M segdup is near the start of the TSPY array, though still end up including ~40kb between ~9.58-9.62M. Looking at other genes in the region we're excluding, TTTY22 also moves, with a 10kb del at 9.81M and 10kb ins at 6.36M. RBMY2NP and RMBY2GP and some other TTTY paralogs also swap positions. Interestingly, all of these genes are annotated differently on T2TY by CAT+liftoff and Refseq, where refseq seems to match gene sequences, whereas CAT+liftoff tries to match positions even if the gene sequences differ\n",
    "\n",
    "message sent to curators: particular pair of segdups separated by 4Mbp on chrY (chrY:9,812,675-9,914,616 and chrY:6,260,340-6,362,053, which includes the TSPY2 gene) that was different between the assembly-based alignments and mapping-based alignments. We presented some slides to the T2T HG002 Q100 group about this region, as an example where the assembly seems correct but it could be aligned to GRCh38 in very different ways - https://docs.google.com/presentation/d/1NAwwM7_v633vEAxNjBH_IYDfqTwDJjRs2DDaDaZcCCY/edit?usp=sharing. "
   ]
  },
  {
   "cell_type": "markdown",
   "id": "47920858",
   "metadata": {},
   "source": [
    "-----------------"
   ]
  },
  {
   "cell_type": "markdown",
   "id": "05eefebe",
   "metadata": {},
   "source": [
    "## 1. Prepare .bed files of regions to exclude"
   ]
  },
  {
   "cell_type": "markdown",
   "id": "0f590750",
   "metadata": {},
   "source": [
    "#### Get manual curation \"no\" and \"unsure\"\n",
    "Using the [Manuscript Figure Curation Sheet](https://docs.google.com/spreadsheets/d/19n8NAGFH317824cFhshShiv5-ooK-4qqmSF_CzDpO6g/edit#gid=0) regions were pulled where the `GIAB_Correct_In_Benchmark` field was either \"no\" or \"unsure\".  Resulting file: `chrXY_manual_curation_no-unsure_only.bed`"
   ]
  },
  {
   "cell_type": "code",
   "execution_count": 7,
   "id": "47cb2b40",
   "metadata": {},
   "outputs": [
    {
     "name": "stdout",
     "output_type": "stream",
     "text": [
      "Fri Sep 22 13:18:00 EDT 2023\n",
      "     107 ../../data/exclusions/intermediate/chrXY_manual_curation_no-unsure_only.bed\n",
      "      95 ../../data/exclusions/intermediate/no-unsure_chrXY-benchmark_exclusion.bed\n"
     ]
    }
   ],
   "source": [
    "date\n",
    "#no-unsure_chrXY-benchmark_exclusion.bed (#1)\n",
    "\n",
    "#sort\n",
    "sed 's/^chr//' ../../data/exclusions/intermediate/chrXY_manual_curation_no-unsure_only.bed | grep \"^[XY]\" | sed 's/^X/23/;s/^Y/24/' | sort -k1,1n -k2,2n -k3,3n | sed 's/^23/X/;s/^24/Y/;s/^/chr/'> ../../data/exclusions/intermediate/chrXY_manual_curation_no-unsure_only_sorted.bed\n",
    "\n",
    "#merge regions within 100 bp of one another\n",
    "mergebed -i ../../data/exclusions/intermediate/chrXY_manual_curation_no-unsure_only_sorted.bed -d 100 > ../../data/exclusions/intermediate/no-unsure_chrXY-benchmark_exclusion.bed\n",
    "\n",
    "#how many no's and unsures?\n",
    "wc -l ../../data/exclusions/intermediate/chrXY_manual_curation_no-unsure_only.bed\n",
    "wc -l ../../data/exclusions/intermediate/no-unsure_chrXY-benchmark_exclusion.bed"
   ]
  },
  {
   "cell_type": "code",
   "execution_count": 3,
   "id": "a8d3f7e6",
   "metadata": {},
   "outputs": [
    {
     "name": "stdout",
     "output_type": "stream",
     "text": [
      "Tue Aug  1 13:13:59 EDT 2023\n",
      "/Users/jmcdani/Documents/XY_benchmark/giab-chrXY-benchmark/scripts/chrXY_benchmark_exclusions\n"
     ]
    }
   ],
   "source": [
    "date\n",
    "pwd\n",
    "\n",
    "# genomic coordinates for inversion (#2)\n",
    "coordinate1=\"chrY\\t17455804\\t18450201\"\n",
    "\n",
    "# Create.bed file\n",
    "echo -e \"$coordinate1\" > ../../data/exclusions/intermediate/inversion_chrXY-benchmark_exclusion.bed\n",
    "echo -e \"$coordinate2\" >> ../../data/exclusions/intermediate/inversion_chrXY-benchmark_exclusion.bed"
   ]
  },
  {
   "cell_type": "code",
   "execution_count": 4,
   "id": "e6dfde9d",
   "metadata": {},
   "outputs": [
    {
     "name": "stdout",
     "output_type": "stream",
     "text": [
      "Tue Aug  1 13:14:05 EDT 2023\n",
      "/Users/jmcdani/Documents/XY_benchmark/giab-chrXY-benchmark/scripts/chrXY_benchmark_exclusions\n"
     ]
    }
   ],
   "source": [
    "date\n",
    "pwd\n",
    "\n",
    "# genomic coordinates for segdups involving TSPY2 gene (#3)\n",
    "coordinate1=\"chrY\\t6234812\\t6532742\"\n",
    "coordinate2=\"chrY\\t9628425\\t9919592\"\n",
    "\n",
    "# Create .bed file\n",
    "echo -e \"$coordinate1\" > ../../data/exclusions/intermediate/TSPY2segdups_chrXY-benchmark_exclusion.bed\n",
    "echo -e \"$coordinate2\" >> ../../data/exclusions/intermediate/TSPY2segdups_chrXY-benchmark_exclusion.bed"
   ]
  },
  {
   "cell_type": "markdown",
   "id": "5222b61f",
   "metadata": {},
   "source": [
    "## 2.  Get resource files"
   ]
  },
  {
   "cell_type": "markdown",
   "id": "08afffa1",
   "metadata": {},
   "source": [
    "### v3.1 GIAB stratification AllTandemRepeatsandHomopolymers\n",
    "This file is the union of the Low Complexity (repeat) stratifications below and will be used for expanding regions to exclude prior to exclusion step. \n",
    "\n",
    "`GRCh3X_AllTandemRepeats_*_slop5.bed.gz`  \n",
    "union of SimpleRepeat dinucleotide, trinucleotide, and quadnucleotide STRs as well as UCSC Genome Brower RepeatMasker_LowComplexity, RepeatMasker_SimpleRepeats, RepeatMasker_Satellite, and TRF_SimpleRepeat\n",
    "\n",
    "`GRCh3X_AllHomopolymers_gt6bp_imperfectgt10bp_slop5.bed.gz`  \n",
    "union of all perfect homopolymers >6bp and imperfect homopolymers >10bp"
   ]
  },
  {
   "cell_type": "markdown",
   "id": "eb07b4e7",
   "metadata": {},
   "source": [
    "### GRCh38 file with chromosome lengths\n",
    "[human.b38.genome](https://drive.google.com/file/d/1vtufmAUBzAgGgCF4DfparuozFAgo4Flr/view) was previously created and copied from team resources Google Drive. This file contains the chromosome sizes for GRCh38 reference and is needed for adding slop. The code below for generating this .genome file is provided for reference\n",
    "```\n",
    "#index reference\n",
    "samtools faidx GCA_000001405.15_GRCh38_no_alt_analysis_set.fna.fai > GRCh38.fa.fai\n",
    "\n",
    "#prepare .genome files with chromosome lengths\n",
    "cat GRCh38.fa.fai | cut -f 1,2 | grep -Ev '^[chr0-9XYM]_|^[chr0-9][0-9XYM]_|^chrUn_' > human.b38.genome\n",
    "```"
   ]
  },
  {
   "cell_type": "markdown",
   "id": "1f5a29fe",
   "metadata": {},
   "source": [
    "### Bedtools\n",
    "use bedtools conda environment"
   ]
  },
  {
   "cell_type": "code",
   "execution_count": 1,
   "id": "6f0247c3",
   "metadata": {},
   "outputs": [
    {
     "name": "stdout",
     "output_type": "stream",
     "text": [
      "bedtools v2.31.0\n"
     ]
    }
   ],
   "source": [
    "bedtools --version"
   ]
  },
  {
   "cell_type": "markdown",
   "id": "a7ef4c8d-3941-448d-b2e2-7beb2a8a81c0",
   "metadata": {},
   "source": [
    "## 3. Expand exclusion regions \n",
    "Expand bed coordinates for regions you want to exclude to completely cover any overlapping homopolymers and tandem repeats. Multi-intersect followed by merge is essentially taking the union of bed files.  Perform expansion for each region type to be removed from your draft benchmark.  \n",
    "\n",
    "Links to information on relevant bedtools commands needed for expansion  \n",
    "[intersectBed -wa](https://bedtools.readthedocs.io/en/latest/content/tools/intersect.html)  \n",
    "[multiIntersectBed](https://bedtools.readthedocs.io/en/latest/content/tools/multiinter.html)   \n",
    "[mergeBed](https://bedtools.readthedocs.io/en/latest/content/tools/merge.html)  "
   ]
  },
  {
   "cell_type": "code",
   "execution_count": 10,
   "id": "c4a303c6-2c05-49c1-9b76-242437b8b6f2",
   "metadata": {},
   "outputs": [
    {
     "name": "stdout",
     "output_type": "stream",
     "text": [
      "Fri Sep 22 13:21:20 EDT 2023\n",
      "/Users/jmcdani/Documents/XY_benchmark/giab-chrXY-benchmark/scripts/chrXY_benchmark_exclusions\n"
     ]
    }
   ],
   "source": [
    "date\n",
    "pwd\n",
    "\n",
    "intersectBed -wa -a ../../resources/GRCh38_AllTandemRepeatsandHomopolymers_slop5.bed.gz -b ../../data/exclusions/intermediate/no-unsure_chrXY-benchmark_exclusion.bed | multiIntersectBed -i stdin ../../data/exclusions/intermediate/no-unsure_chrXY-benchmark_exclusion.bed | mergeBed -i stdin > ../../data/exclusions/intermediate/no-unsure_chrXY-benchmark_exclusion_repeatexpanded.bed"
   ]
  },
  {
   "cell_type": "code",
   "execution_count": 11,
   "id": "15e143e1-0eee-474b-bc0e-6adf747d8930",
   "metadata": {},
   "outputs": [
    {
     "name": "stdout",
     "output_type": "stream",
     "text": [
      "Fri Sep 22 13:22:25 EDT 2023\n",
      "/Users/jmcdani/Documents/XY_benchmark/giab-chrXY-benchmark/scripts/chrXY_benchmark_exclusions\n"
     ]
    }
   ],
   "source": [
    "date\n",
    "pwd\n",
    "intersectBed -wa -a ../../resources/GRCh38_AllTandemRepeatsandHomopolymers_slop5.bed.gz -b ../../data/exclusions/intermediate/inversion_chrXY-benchmark_exclusion.bed | multiIntersectBed -i stdin ../../data/exclusions/intermediate/inversion_chrXY-benchmark_exclusion.bed | mergeBed -i stdin > ../../data/exclusions/intermediate/inversion_chrXY-benchmark_exclusion_repeatexpanded.bed"
   ]
  },
  {
   "cell_type": "code",
   "execution_count": 12,
   "id": "f30cec8f-0853-4957-a885-ee072d7a3665",
   "metadata": {},
   "outputs": [
    {
     "name": "stdout",
     "output_type": "stream",
     "text": [
      "Fri Sep 22 13:23:21 EDT 2023\n",
      "/Users/jmcdani/Documents/XY_benchmark/giab-chrXY-benchmark/scripts/chrXY_benchmark_exclusions\n"
     ]
    }
   ],
   "source": [
    "date\n",
    "pwd\n",
    "intersectBed -wa -a ../../resources/GRCh38_AllTandemRepeatsandHomopolymers_slop5.bed.gz -b ../../data/exclusions/intermediate/TSPY2segdups_chrXY-benchmark_exclusion.bed | multiIntersectBed -i stdin ../../data/exclusions/intermediate/TSPY2segdups_chrXY-benchmark_exclusion.bed | mergeBed -i stdin > ../../data/exclusions/intermediate/TSPY2segdups_chrXY-benchmark_exclusion_repeatexpanded.bed"
   ]
  },
  {
   "cell_type": "markdown",
   "id": "0fa3e601-3bca-423f-8ede-16ab7ade045e",
   "metadata": {},
   "source": [
    "## 4. Add slop to expanded exclusion bed\n",
    "Adds padding to both sides of the regions you wish to exclude.  `-b` set to add 50bp of slop on either side of region.\n",
    "\n",
    "Link to information on relevant bedtools commands needed for adding slop  \n",
    "[slopBed](https://bedtools.readthedocs.io/en/latest/content/tools/slop.html) "
   ]
  },
  {
   "cell_type": "code",
   "execution_count": 15,
   "id": "bade9598-5782-4459-ade5-ddf0cc974c98",
   "metadata": {},
   "outputs": [
    {
     "name": "stdout",
     "output_type": "stream",
     "text": [
      "Fri Sep 22 13:26:37 EDT 2023\n",
      "/Users/jmcdani/Documents/XY_benchmark/giab-chrXY-benchmark/scripts/chrXY_benchmark_exclusions\n"
     ]
    }
   ],
   "source": [
    "date\n",
    "pwd\n",
    "slopBed -i ../../data/exclusions/intermediate/no-unsure_chrXY-benchmark_exclusion_repeatexpanded.bed -b 50 -g ../../resources/human.b38.genome > ../../data/exclusions/intermediate/no-unsure_chrXY-benchmark_exclusion_repeatexpanded_slop50.bed"
   ]
  },
  {
   "cell_type": "code",
   "execution_count": 16,
   "id": "ea1c0f14-67bd-48a3-aaee-7ac09ad20747",
   "metadata": {},
   "outputs": [
    {
     "name": "stdout",
     "output_type": "stream",
     "text": [
      "Fri Sep 22 13:27:35 EDT 2023\n",
      "/Users/jmcdani/Documents/XY_benchmark/giab-chrXY-benchmark/scripts/chrXY_benchmark_exclusions\n"
     ]
    }
   ],
   "source": [
    "date\n",
    "pwd\n",
    "slopBed -i ../../data/exclusions/intermediate/inversion_chrXY-benchmark_exclusion_repeatexpanded.bed -b 50 -g ../../resources/human.b38.genome > ../../data/exclusions/intermediate/inversion_chrXY-benchmark_exclusion_repeatexpanded_slop50.bed"
   ]
  },
  {
   "cell_type": "code",
   "execution_count": 19,
   "id": "ad1d5996-917c-423a-b2e1-da97d9e70e36",
   "metadata": {},
   "outputs": [
    {
     "name": "stdout",
     "output_type": "stream",
     "text": [
      "Fri Sep 22 13:28:58 EDT 2023\n",
      "/Users/jmcdani/Documents/XY_benchmark/giab-chrXY-benchmark/scripts/chrXY_benchmark_exclusions\n"
     ]
    }
   ],
   "source": [
    "date\n",
    "pwd\n",
    "slopBed -i ../../data/exclusions/intermediate/TSPY2segdups_chrXY-benchmark_exclusion_repeatexpanded.bed -b 50 -g ../../resources/human.b38.genome > ../../data/exclusions/intermediate/TSPY2segdups_chrXY-benchmark_exclusion_repeatexpanded_slop50.bed"
   ]
  },
  {
   "cell_type": "markdown",
   "id": "ba2eab67-0fe6-4086-9f5d-4b43a59912d6",
   "metadata": {},
   "source": [
    "## 5. Exclude expanded regions\n",
    "Exclude expanded regions of interest w/ slop from draft benchmark.\n",
    "\n",
    "Link to information on relevant bedtools commands needed for exclusion  \n",
    "[subtractBed](https://bedtools.readthedocs.io/en/latest/content/tools/subtract.html)"
   ]
  },
  {
   "cell_type": "code",
   "execution_count": 23,
   "id": "a7afbc02-ab2c-4cdb-9770-e6e714e77e73",
   "metadata": {},
   "outputs": [
    {
     "name": "stdout",
     "output_type": "stream",
     "text": [
      "Fri Sep 22 14:05:59 EDT 2023\n",
      "/Users/jmcdani/Documents/XY_benchmark/giab-chrXY-benchmark/scripts/chrXY_benchmark_exclusions\n"
     ]
    }
   ],
   "source": [
    "date\n",
    "pwd\n",
    "subtractBed -a ../../data/draft_benchmarks/GRCh38_T2T-XY-v2.7_dipcall-z2k.benchmark.bed -b ../../data/exclusions/intermediate/no-unsure_chrXY-benchmark_exclusion_repeatexpanded_slop50.bed | subtractBed -a stdin -b ../../data/exclusions/intermediate/inversion_chrXY-benchmark_exclusion_repeatexpanded_slop50.bed | subtractBed -a stdin -b ../../data/exclusions/intermediate/TSPY2segdups_chrXY-benchmark_exclusion_repeatexpanded_slop50.bed > ../../data/HG002_GRCh38_chrXY_smallvar_v1.0.bed\n"
   ]
  },
  {
   "cell_type": "markdown",
   "id": "06966ff2-3c34-402c-94d1-e422f925f17c",
   "metadata": {},
   "source": [
    "## QC"
   ]
  },
  {
   "cell_type": "code",
   "execution_count": 31,
   "id": "b0211057-e385-42c6-8b43-2f95a73c7bb5",
   "metadata": {},
   "outputs": [
    {
     "name": "stdout",
     "output_type": "stream",
     "text": [
      "sum of exclusions\n",
      "26985\n",
      "594426\n",
      "994497\n",
      "sum of regions in draft Benchmark\n",
      "163075893\n",
      "sum of regions in draft benchmark following exclusions, final benchmark\n",
      "161549546\n"
     ]
    }
   ],
   "source": [
    "echo \"sum of exclusions\"\n",
    "awk -F'\\t' 'BEGIN{SUM=0}{ SUM+=$3-$2 }END{print SUM}' ../../data/exclusions/intermediate/no-unsure_chrXY-benchmark_exclusion_repeatexpanded_slop50.bed\n",
    "awk -F'\\t' 'BEGIN{SUM=0}{ SUM+=$3-$2 }END{print SUM}' ../../data/exclusions/intermediate/TSPY2segdups_chrXY-benchmark_exclusion_repeatexpanded_slop50.bed\n",
    "awk -F'\\t' 'BEGIN{SUM=0}{ SUM+=$3-$2 }END{print SUM}' ../../data/exclusions/intermediate/inversion_chrXY-benchmark_exclusion_repeatexpanded_slop50.bed\n",
    "\n",
    "echo \"sum of regions in draft Benchmark\"\n",
    "awk -F'\\t' 'BEGIN{SUM=0}{ SUM+=$3-$2 }END{print SUM}' ../../data/draft_benchmarks/GRCh38_T2T-XY-v2.7_dipcall-z2k.benchmark.bed\n",
    "\n",
    "echo \"sum of regions in draft benchmark following exclusions, final benchmark\"\n",
    "awk -F'\\t' 'BEGIN{SUM=0}{ SUM+=$3-$2 }END{print SUM}' ../../data/HG002_GRCh38_chrXY_smallvar_v1.0.bed"
   ]
  },
  {
   "cell_type": "code",
   "execution_count": 28,
   "id": "cad93a1e-8c78-4ff1-95e1-6f25daef420a",
   "metadata": {},
   "outputs": [],
   "source": [
    "## Rename vcf\n",
    "mv ../../data/GRCh38_T2T-XY-v2.7_dipcall-z2k.vcf.gz ../../data/HG002_GRCh38_chrXY_smallvar_v1.0.vcf.gz\n",
    "mv ../../data/GRCh38_T2T-XY-v2.7_dipcall-z2k.vcf.gz.tbi ../../data/HG002_GRCh38_chrXY_smallvar_v1.0.vcf.gz.tbi"
   ]
  },
  {
   "cell_type": "markdown",
   "id": "bbd581a7-4826-494e-99b3-480d80a623d4",
   "metadata": {},
   "source": [
    "#### candidate benchmark md5s"
   ]
  },
  {
   "cell_type": "code",
   "execution_count": 30,
   "id": "111a1924-b2cb-4ab1-85d1-d169d79ba44a",
   "metadata": {},
   "outputs": [
    {
     "name": "stdout",
     "output_type": "stream",
     "text": [
      "MD5 (../../data/HG002_GRCh38_chrXY_smallvar_v1.0.vcf.gz) = 99b98c697b161343088ef54b0d62c9aa\n",
      "MD5 (../../data/HG002_GRCh38_chrXY_smallvar_v1.0.vcf.gz.tbi) = 46ab7c5950b219e1e92436fd1b28ca25\n",
      "MD5 (../../data/HG002_GRCh38_chrXY_smallvar_v1.0.bed) = 96e20f3a7c74ff71c2d96c1fe9c91d5f\n"
     ]
    }
   ],
   "source": [
    "md5 ../../data/HG002_GRCh38_chrXY_smallvar_v1.0.vcf.gz\n",
    "md5 ../../data/HG002_GRCh38_chrXY_smallvar_v1.0.vcf.gz.tbi\n",
    "md5 ../../data/HG002_GRCh38_chrXY_smallvar_v1.0.bed"
   ]
  },
  {
   "cell_type": "markdown",
   "id": "401c5677-9fdf-4c75-a258-3b2c0b5c53ca",
   "metadata": {},
   "source": [
    "candidate benchmarks and this .ipynb transferred to [google drive](https://drive.google.com/drive/folders/1RiBEHcnR7ZxJ2eJIRX1Yl6IHfUj5u5iQ) 9/22/23 for evaluation."
   ]
  },
  {
   "cell_type": "markdown",
   "id": "077f2d70-2674-486e-9ccb-a687b4f07bce",
   "metadata": {},
   "source": []
  }
 ],
 "metadata": {
  "kernelspec": {
   "display_name": "Bash",
   "language": "bash",
   "name": "bash"
  },
  "language_info": {
   "codemirror_mode": "shell",
   "file_extension": ".sh",
   "mimetype": "text/x-sh",
   "name": "bash"
  },
  "toc": {
   "base_numbering": 1,
   "nav_menu": {},
   "number_sections": false,
   "sideBar": true,
   "skip_h1_title": true,
   "title_cell": "Table of Contents",
   "title_sidebar": "Contents",
   "toc_cell": false,
   "toc_position": {
    "height": "calc(100% - 180px)",
    "left": "10px",
    "top": "150px",
    "width": "384px"
   },
   "toc_section_display": true,
   "toc_window_display": false
  }
 },
 "nbformat": 4,
 "nbformat_minor": 5
}
