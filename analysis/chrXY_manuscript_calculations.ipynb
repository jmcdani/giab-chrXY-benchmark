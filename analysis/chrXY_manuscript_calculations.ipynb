{
 "cells": [
  {
   "cell_type": "markdown",
   "id": "1f701c64",
   "metadata": {},
   "source": [
    "#### The resulting benchmark includes 0.9448892 of X and 0.6328961 of Y in GRCh38, of 294 medical gene regions 270 are included >90% and 251 are included >99% regions, as well as some challenging regions like 0.6823813 of segmental duplications, 0.1549578 of satellite DNA, xx% of XTR. \n",
    "inputs for each calculation --"
   ]
  },
  {
   "cell_type": "code",
   "execution_count": null,
   "id": "27ada961",
   "metadata": {
    "vscode": {
     "languageId": "plaintext"
    }
   },
   "outputs": [],
   "source": [
    "xx% of X in GRCh38: \n",
    "$:bedtools coverage -a GRCh38_chrX_subtract_GAPs.bed -b GRCh38_T2T-XY-v2.7_dipcall-z2k.benchmark.bed -hist | tail -n 2\n",
    "all\t0\t8536323\t154894234\t0.0551107\n",
    "all\t1\t146357911\t154894234\t0.9448892\n"
   ]
  },
  {
   "cell_type": "code",
   "execution_count": null,
   "id": "fab2b934",
   "metadata": {
    "vscode": {
     "languageId": "plaintext"
    }
   },
   "outputs": [],
   "source": [
    "xx% of Y in GRCh38: \n",
    "$:bedtools coverage -a GRCh38_chrY_subtract_GAPs.bed -b GRCh38_T2T-XY-v2.7_dipcall-z2k.benchmark.bed -hist | tail -n 2\n",
    "all\t0\t9697066\t26415048\t0.3671038\n",
    "all\t1\t16717982\t26415048\t0.6328961"
   ]
  },
  {
   "cell_type": "raw",
   "id": "60f04793",
   "metadata": {},
   "source": [
    "xx% of medical gene regions: \n",
    "$: bedtools coverage -a GRCh38_mrg_full_gene_chr_XY.bed -b GRCh38_T2T-XY-v2.7_dipcall-z2k.benchmark.bed -hist\n",
    "\n",
    "- Then see for threshold decisions https://nistgov.slack.com/archives/D012NLPNNJ0/p1694013367233629"
   ]
  },
  {
   "cell_type": "raw",
   "id": "811db037",
   "metadata": {},
   "source": [
    "xx% of segmental duplications: \n",
    "$: zgrep -e \"^chrY\" -e \"^chrX\" GRCh38_segdups.bed.gz | bedtools coverage -a stdin -b GRCh38_T2T-XY-v2.7_dipcall-z2k.benchmark.bed -hist | tail -n 2\n",
    "all\t0\t7460111\t23487633\t0.3176187\n",
    "all\t1\t16027522\t23487633\t0.6823813"
   ]
  },
  {
   "cell_type": "raw",
   "id": "43e5fac3",
   "metadata": {},
   "source": [
    "$: zgrep -e \"^chrX\" GRCh38_segdups.bed.gz | bedtools coverage -a stdin -b GRCh38_T2T-XY-v2.7_dipcall-z2k.benchmark.bed -hist  | tail -n 2\n",
    "all\t0\t1902008\t10298767\t0.1846831\n",
    "all\t1\t8396759\t10298767\t0.8153169"
   ]
  },
  {
   "cell_type": "raw",
   "id": "bbd58867",
   "metadata": {},
   "source": [
    "$: zgrep -e \"^chrY\" GRCh38_segdups.bed.gz | bedtools coverage -a stdin -b GRCh38_T2T-XY-v2.7_dipcall-z2k.benchmark.bed -hist  | tail -n 2\n",
    "all\t0\t5558103\t13188866\t0.4214239\n",
    "all\t1\t7630763\t13188866\t0.5785761"
   ]
  },
  {
   "cell_type": "raw",
   "id": "e993e1f7",
   "metadata": {},
   "source": [
    "xx% of satellite DNA:\n",
    "$: zgrep -e \"^chrY\" -e \"^chrX\" GRCh38_satellites_slop5.bed.gz | bedtools coverage -a stdin -b GRCh38_T2T-XY-v2.7_dipcall-z2k.benchmark.bed -hist  | tail -n 2\n",
    "all\t0\t4949113\t5856646\t0.8450422\n",
    "all\t1\t907533\t5856646\t0.1549578"
   ]
  },
  {
   "cell_type": "raw",
   "id": "e8e00dfa",
   "metadata": {},
   "source": [
    "$: zgrep -e \"^chrX\" GRCh38_satellites_slop5.bed.gz | bedtools coverage -a stdin -b GRCh38_T2T-XY-v2.7_dipcall-z2k.benchmark.bed -hist  | tail -n 2\n",
    "all\t0\t4113903\t4564939\t0.9011956\n",
    "all\t1\t451036\t4564939\t0.0988044"
   ]
  },
  {
   "cell_type": "raw",
   "id": "0817d1aa",
   "metadata": {},
   "source": [
    "$: zgrep -e \"^chrY\" GRCh38_satellites_slop5.bed.gz | bedtools coverage -a stdin -b GRCh38_T2T-XY-v2.7_dipcall-z2k.benchmark.bed -hist  | tail -n 2\n",
    "all\t0\t835210\t1291707\t0.6465940\n",
    "all\t1\t456497\t1291707\t0.3534060"
   ]
  },
  {
   "cell_type": "raw",
   "id": "1e702bb7",
   "metadata": {},
   "source": [
    "xx% of XTR ChrX: \n",
    "$: bedtools coverage -a GRCh38_chrX_XTR.bed.gz -b GRCh38_T2T-XY-v2.7_dipcall-z2k.benchmark.bed -hist  | tail -n 2\n",
    "all\t0\t35100\t4673599\t0.0075103\n",
    "all\t1\t4638499\t4673599\t0.9924898"
   ]
  },
  {
   "cell_type": "raw",
   "id": "6a53213e",
   "metadata": {},
   "source": [
    "xx% of XTR ChrY: \n",
    "$: bedtools coverage -a GRCh38_chrY_XTR.bed.gz -b GRCh38_T2T-XY-v2.7_dipcall-z2k.benchmark.bed -hist  | tail -n 2\n",
    "all\t0\t39706\t3400874\t0.0116752\n",
    "all\t1\t3361168\t3400874\t0.9883248"
   ]
  },
  {
   "cell_type": "markdown",
   "id": "a162bdd3",
   "metadata": {},
   "source": [
    "#### A higher fraction of indels are large indels 15 to 49 bp in size (xx%) compared to the v4.2.1 benchmark (xx%). Also, a higher fraction of indels are in tandem repeats (xx%) compared to the v4.2.1 benchmark (xx%). However, despite using T2T assemblies, significant fractions of GRCh38 X and Y are excluded from the small variant benchmark, in addition to the xx% of X and xx% of Y missing from GRCh38, such as the large human satellites in the X centromere and Y heterochromatin.\n",
    "\n",
    "inputs for each calculation --"
   ]
  },
  {
   "cell_type": "markdown",
   "id": "fa215316",
   "metadata": {},
   "source": [
    "A higher fraction of indels are large indels 15 to 49 bp in size (0.048723613) compared to the v4.2.1 benchmark (0.026117621)"
   ]
  },
  {
   "cell_type": "raw",
   "id": "6fbfe13b",
   "metadata": {},
   "source": [
    "$: bedtools intersect -a GRCh38_T2T-XY-v2.7_dipcall-z2k.vcf.gz -b GRCh38_T2T-XY-v2.7_dipcall-z2k.benchmark.bed -header > GRCh38_T2T-XY-v2.7_dipcall-z2k_in_benchmark_bed.vcf\n",
    "SN\t0\tnumber of indels:\t24444\n",
    "IDD\t0\t-48\t4\n",
    "IDD\t0\t-47\t3\n",
    "IDD\t0\t-46\t6\n",
    "IDD\t0\t-45\t1\n",
    "IDD\t0\t-44\t5\n",
    "IDD\t0\t-43\t2\n",
    "IDD\t0\t-42\t2\n",
    "IDD\t0\t-41\t1\n",
    "IDD\t0\t-40\t5\n",
    "IDD\t0\t-39\t4\n",
    "IDD\t0\t-38\t9\n",
    "IDD\t0\t-37\t8\n",
    "IDD\t0\t-36\t14\n",
    "IDD\t0\t-35\t4\n",
    "IDD\t0\t-34\t8\n",
    "IDD\t0\t-33\t6\n",
    "IDD\t0\t-32\t18\n",
    "IDD\t0\t-31\t6\n",
    "IDD\t0\t-30\t16\n",
    "IDD\t0\t-29\t13\n",
    "IDD\t0\t-28\t29\n",
    "IDD\t0\t-27\t5\n",
    "IDD\t0\t-26\t36\n",
    "IDD\t0\t-25\t5\n",
    "IDD\t0\t-24\t43\n",
    "IDD\t0\t-23\t11\n",
    "IDD\t0\t-22\t26\n",
    "IDD\t0\t-21\t17\n",
    "IDD\t0\t-20\t55\n",
    "IDD\t0\t-19\t10\n",
    "IDD\t0\t-18\t47\n",
    "IDD\t0\t-17\t18\n",
    "IDD\t0\t-16\t116\n",
    "IDD\t0\t-15\t38\n",
    "IDD\t0\t15\t38\n",
    "IDD\t0\t16\t98\n",
    "IDD\t0\t17\t20\n",
    "IDD\t0\t18\t55\n",
    "IDD\t0\t19\t15\n",
    "IDD\t0\t20\t60\n",
    "IDD\t0\t21\t8\n",
    "IDD\t0\t22\t29\n",
    "IDD\t0\t23\t19\n",
    "IDD\t0\t24\t39\n",
    "IDD\t0\t25\t9\n",
    "IDD\t0\t26\t27\n",
    "IDD\t0\t27\t13\n",
    "IDD\t0\t28\t29\n",
    "IDD\t0\t29\t7\n",
    "IDD\t0\t30\t20\n",
    "IDD\t0\t31\t5\n",
    "IDD\t0\t32\t23\n",
    "IDD\t0\t33\t4\n",
    "IDD\t0\t34\t11\n",
    "IDD\t0\t35\t5\n",
    "IDD\t0\t36\t18\n",
    "IDD\t0\t37\t5\n",
    "IDD\t0\t38\t2\n",
    "IDD\t0\t39\t3\n",
    "IDD\t0\t40\t6\n",
    "IDD\t0\t41\t1\n",
    "IDD\t0\t42\t5\n",
    "IDD\t0\t43\t1\n",
    "IDD\t0\t44\t7\n",
    "IDD\t0\t45\t2\n",
    "IDD\t0\t46\t6\n",
    "IDD\t0\t47\t3\n",
    "IDD\t0\t48\t7"
   ]
  },
  {
   "cell_type": "raw",
   "id": "2378e617",
   "metadata": {},
   "source": [
    "bedtools intersect -a HG002_GRCh38_1_22_v4.2.1_benchmark.vcf.gz -b HG002_GRCh38_1_22_v4.2.1_benchmark_noinconsistent.bed -header > HG002_GRCh38_1_22_v4.2.1_benchmark_in_benchmark_bed.vcf\n",
    "$: bcftools stats  HG002_GRCh38_1_22_v4.2.1_benchmark_in_benchmark_bed.vcf.gz\n",
    "SN\t0\tnumber of indels:\t525469\n",
    "IDD\t0\t-49\t16\n",
    "IDD\t0\t-48\t22\n",
    "IDD\t0\t-47\t16\n",
    "IDD\t0\t-46\t28\n",
    "IDD\t0\t-45\t23\n",
    "IDD\t0\t-44\t36\n",
    "IDD\t0\t-43\t26\n",
    "IDD\t0\t-42\t45\n",
    "IDD\t0\t-41\t40\n",
    "IDD\t0\t-40\t47\n",
    "IDD\t0\t-39\t49\n",
    "IDD\t0\t-38\t54\n",
    "IDD\t0\t-37\t49\n",
    "IDD\t0\t-36\t91\n",
    "IDD\t0\t-35\t54\n",
    "IDD\t0\t-34\t90\n",
    "IDD\t0\t-33\t56\n",
    "IDD\t0\t-32\t123\n",
    "IDD\t0\t-31\t85\n",
    "IDD\t0\t-30\t163\n",
    "IDD\t0\t-29\t101\n",
    "IDD\t0\t-28\t220\n",
    "IDD\t0\t-27\t139\n",
    "IDD\t0\t-26\t212\n",
    "IDD\t0\t-25\t191\n",
    "IDD\t0\t-24\t400\n",
    "IDD\t0\t-23\t210\n",
    "IDD\t0\t-22\t374\n",
    "IDD\t0\t-21\t244\n",
    "IDD\t0\t-20\t734\n",
    "IDD\t0\t-19\t310\n",
    "IDD\t0\t-18\t660\n",
    "IDD\t0\t-17\t381\n",
    "IDD\t0\t-16\t1260\n",
    "IDD\t0\t-15\t789\n",
    "IDD\t0\t15\t678\n",
    "IDD\t0\t16\t1144\n",
    "IDD\t0\t17\t345\n",
    "IDD\t0\t18\t565\n",
    "IDD\t0\t19\t285\n",
    "IDD\t0\t20\t634\n",
    "IDD\t0\t21\t257\n",
    "IDD\t0\t22\t256\n",
    "IDD\t0\t23\t173\n",
    "IDD\t0\t24\t411\n",
    "IDD\t0\t25\t157\n",
    "IDD\t0\t26\t165\n",
    "IDD\t0\t27\t118\n",
    "IDD\t0\t28\t176\n",
    "IDD\t0\t29\t89\n",
    "IDD\t0\t30\t127\n",
    "IDD\t0\t31\t65\n",
    "IDD\t0\t32\t111\n",
    "IDD\t0\t33\t59\n",
    "IDD\t0\t34\t54\n",
    "IDD\t0\t35\t49\n",
    "IDD\t0\t36\t80\n",
    "IDD\t0\t37\t49\n",
    "IDD\t0\t38\t43\n",
    "IDD\t0\t39\t35\n",
    "IDD\t0\t40\t40\n",
    "IDD\t0\t41\t43\n",
    "IDD\t0\t42\t45\n",
    "IDD\t0\t43\t18\n",
    "IDD\t0\t44\t23\n",
    "IDD\t0\t45\t15\n",
    "IDD\t0\t46\t18\n",
    "IDD\t0\t47\t17\n",
    "IDD\t0\t48\t27\n",
    "IDD\t0\t49\t15"
   ]
  },
  {
   "cell_type": "raw",
   "id": "1bdee67f",
   "metadata": {},
   "source": [
    "-- Also, a higher fraction of indels are in tandem repeats (0.303060056) compared to the v4.2.1 benchmark (0.20895619):  \n",
    "\n",
    "$: bedtools intersect -a HG002_GRCh38_1_22_v4.2.1_benchmark_in_benchmark_bed.vcf.gz -b GRCh38_AllTandemRepeats.bed.gz -header > HG002_GRCh38_1_22_v4.2.1_benchmark_in_benchmark_bed_in_GRCh38_AllTandemRepeats.vcf\n",
    "$: bgzip HG002_GRCh38_1_22_v4.2.1_benchmark_in_benchmark_bed_in_GRCh38_AllTandemRepeats.vcf\n",
    "$: tabix HG002_GRCh38_1_22_v4.2.1_benchmark_in_benchmark_bed_in_GRCh38_AllTandemRepeats.vcf.gz\n",
    "$: bcftools stats HG002_GRCh38_1_22_v4.2.1_benchmark_in_benchmark_bed_in_GRCh38_AllTandemRepeats.vcf.gz\n",
    "SN\t0\tnumber of indels:\t109800"
   ]
  },
  {
   "cell_type": "raw",
   "id": "18bf4de8",
   "metadata": {},
   "source": [
    "$: bedtools intersect -a GRCh38_T2T-XY-v2.7_dipcall-z2k_in_benchmark_bed.vcf.gz -b GRCh38_AllTandemRepeats.bed.gz -header > GRCh38_T2T-XY-v2.7_dipcall-z2k_in_benchmark_bed_in_GRCh38_AllTandemRepeats.vcf\n",
    "$:bgzip GRCh38_T2T-XY-v2.7_dipcall-z2k_in_benchmark_bed_in_GRCh38_AllTandemRepeats.vcf\n",
    "$:tabix GRCh38_T2T-XY-v2.7_dipcall-z2k_in_benchmark_bed_in_GRCh38_AllTandemRepeats.vcf.gz\n",
    "$: bcftools stats GRCh38_T2T-XY-v2.7_dipcall-z2k_in_benchmark_bed_in_GRCh38_AllTandemRepeats.vcf.gz\n",
    "SN\t0\tnumber of indels:\t7408"
   ]
  },
  {
   "cell_type": "raw",
   "id": "db35970f",
   "metadata": {},
   "source": [
    "-- in addition to the .73% of X and 53% of Y missing from GRCh38:\n",
    "$: bedtools coverage -a GRCh38_chrX.bed  -b GRCh38_chrX_gap_UCSC.bed -hist | tail -n 2\n",
    "all\t0\t154894234\t156040894\t0.9926516\n",
    "all\t1\t1146660\t156040894\t0.0073485\n",
    "\n",
    "$: bedtools coverage -a GRCh38_chrY.bed  -b GRCh38_chrY_gap_UCSC.bed -hist | tail -n 2\n",
    "all\t0\t26415048\t57227414\t0.4615803\n",
    "all\t1\t30812366\t57227414\t0.5384197"
   ]
  }
 ],
 "metadata": {
  "kernelspec": {
   "display_name": "Bash",
   "language": "bash",
   "name": "bash"
  },
  "language_info": {
   "codemirror_mode": "shell",
   "file_extension": ".sh",
   "mimetype": "text/x-sh",
   "name": "bash"
  },
  "toc": {
   "base_numbering": 1,
   "nav_menu": {},
   "number_sections": true,
   "sideBar": true,
   "skip_h1_title": false,
   "title_cell": "Table of Contents",
   "title_sidebar": "Contents",
   "toc_cell": false,
   "toc_position": {},
   "toc_section_display": true,
   "toc_window_display": false
  }
 },
 "nbformat": 4,
 "nbformat_minor": 5
}
