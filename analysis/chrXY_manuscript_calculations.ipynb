{
 "cells": [
  {
   "cell_type": "markdown",
   "id": "1f701c64",
   "metadata": {},
   "source": [
    "#### The resulting benchmark includes xx% of X and xx% of Y in GRCh38, xx% of gene regions, as well as some challenging regions like xx% of segmental duplications, xx% of satellite DNA, xx% of XTR. \n",
    "inputs for each calculation --"
   ]
  },
  {
   "cell_type": "markdown",
   "id": "a819af7f",
   "metadata": {},
   "source": [
    "xx% of X and xx% of Y in GRCh38: "
   ]
  },
  {
   "cell_type": "markdown",
   "id": "ab2f25d2",
   "metadata": {},
   "source": [
    "xx% of medical gene regions: \n",
    "\n",
    "```\n",
    "bedtools coverage -a GRCh38_mrg_full_gene_chr_XY.bed -b /Users/jmw7/XY_evaluation/Manuscript_Figures/HG002_GRCh38_CMRG_smallvar_v1.00.bed | cut -f8 | grep -e \"1.00\" | wc -l   \n",
    "       0\n",
    "       \n",
    "bedtools coverage -a GRCh38_mrg_full_gene_chr_XY.bed -b GRCh38_T2T-XY-v2.7_dipcall-z2k.benchmark.bed | cut -f8 | grep -e \"1.00\" | wc -l   \n",
    "     119\n",
    "```"
   ]
  },
  {
   "cell_type": "markdown",
   "id": "811db037",
   "metadata": {},
   "source": [
    "xx% of segmental duplications: https://ftp-trace.ncbi.nlm.nih.gov/ReferenceSamples/giab/release/genome-stratifications/v3.1/GRCh38/SegmentalDuplications/GRCh38_segdups.bed.gz\n"
   ]
  },
  {
   "cell_type": "markdown",
   "id": "26613e60",
   "metadata": {},
   "source": [
    "xx% of satellite DNA:"
   ]
  },
  {
   "cell_type": "markdown",
   "id": "1e702bb7",
   "metadata": {},
   "source": [
    "xx% of XTR: GRCh38_chrX_XTR.bed.gz and GRCh38_chrY_XTR.bed.gz"
   ]
  },
  {
   "cell_type": "markdown",
   "id": "a162bdd3",
   "metadata": {},
   "source": [
    "#### A higher fraction of indels are large indels 15 to 49 bp in size (xx%) compared to the v4.2.1 benchmark (xx%). Also, a higher fraction of indels are in tandem repeats (xx%) compared to the v4.2.1 benchmark (xx%). However, despite using T2T assemblies, significant fractions of GRCh38 X and Y are excluded from the small variant benchmark, in addition to the xx% of X and xx% of Y missing from GRCh38, such as the large human satellites in the X centromere and Y heterochromatin.\n",
    "\n",
    "inputs for each calculation --"
   ]
  },
  {
   "cell_type": "markdown",
   "id": "fa215316",
   "metadata": {},
   "source": [
    "A higher fraction of indels are large indels 15 to 49 bp in size (xx%) compared to the v4.2.1 benchmark (xx%): [HG002_GRCh38_1_22_v4.2.1_benchmark.vcf.gz](https://ftp-trace.ncbi.nlm.nih.gov/ReferenceSamples/giab/release/AshkenazimTrio/HG002_NA24385_son/NISTv4.2.1/GRCh38/HG002_GRCh38_1_22_v4.2.1_benchmark.vcf.gz) and [HG002_GRCh38_1_22_v4.2.1_benchmark_noinconsistent.bed](https://ftp-trace.ncbi.nlm.nih.gov/ReferenceSamples/giab/release/AshkenazimTrio/HG002_NA24385_son/NISTv4.2.1/GRCh38/HG002_GRCh38_1_22_v4.2.1_benchmark_noinconsistent.bed)"
   ]
  },
  {
   "cell_type": "markdown",
   "id": "1bdee67f",
   "metadata": {},
   "source": [
    "Also, a higher fraction of indels are in tandem repeats (xx%) compared to the v4.2.1 benchmark (xx%):  \n",
    "[HG002_GRCh38_1_22_v4.2.1_benchmark.vcf.gz](https://ftp-trace.ncbi.nlm.nih.gov/ReferenceSamples/giab/release/AshkenazimTrio/HG002_NA24385_son/NISTv4.2.1/GRCh38/HG002_GRCh38_1_22_v4.2.1_benchmark.vcf.gz) and [HG002_GRCh38_1_22_v4.2.1_benchmark_noinconsistent.bed](https://ftp-trace.ncbi.nlm.nih.gov/ReferenceSamples/giab/release/AshkenazimTrio/HG002_NA24385_son/NISTv4.2.1/GRCh38/HG002_GRCh38_1_22_v4.2.1_benchmark_noinconsistent.bed)"
   ]
  },
  {
   "cell_type": "markdown",
   "id": "db35970f",
   "metadata": {},
   "source": [
    "in addition to the xx% of X and xx% of Y missing from GRCh38\n",
    "\n",
    "[GCA_000001405.15_GRCh38_no_alt_plus_hs38d1_analysis_set_REF_N.bed](https://github.com/jzook/genome-data-integration/blob/master/NISTv3.3.2/filtbeds/GRCh38/GCA_000001405.15_GRCh38_no_alt_plus_hs38d1_analysis_set_REF_N.bed)"
   ]
  },
  {
   "cell_type": "code",
   "execution_count": null,
   "id": "b4cf6b20",
   "metadata": {},
   "outputs": [],
   "source": []
  }
 ],
 "metadata": {
  "kernelspec": {
   "display_name": "Bash",
   "language": "bash",
   "name": "bash"
  },
  "language_info": {
   "codemirror_mode": "shell",
   "file_extension": ".sh",
   "mimetype": "text/x-sh",
   "name": "bash"
  },
  "toc": {
   "base_numbering": 1,
   "nav_menu": {},
   "number_sections": true,
   "sideBar": true,
   "skip_h1_title": false,
   "title_cell": "Table of Contents",
   "title_sidebar": "Contents",
   "toc_cell": false,
   "toc_position": {},
   "toc_section_display": true,
   "toc_window_display": false
  }
 },
 "nbformat": 4,
 "nbformat_minor": 5
}
